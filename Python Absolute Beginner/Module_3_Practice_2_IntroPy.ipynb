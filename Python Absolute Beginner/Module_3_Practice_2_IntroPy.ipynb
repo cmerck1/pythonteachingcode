{
 "cells": [
  {
   "cell_type": "markdown",
   "metadata": {},
   "source": [
    "# 1-5 Intro Python Practice  \n",
    "## conditionals, type, and mathematics extended   \n",
    "&nbsp;\n",
    "<font size=\"5\" color=\"#00A0B2\"  face=\"verdana\"> <B>Student will be able to</B></font>  \n",
    "- code more than two choices using **`elif`** \n",
    "- gather numeric input using type casting  \n",
    "- perform subtraction, multiplication and division operations in code  &nbsp;  \n"
   ]
  },
  {
   "cell_type": "markdown",
   "metadata": {},
   "source": [
    "# &nbsp;  \n",
    "<font size=\"6\" color=\"#B24C00\"  face=\"verdana\"> <B>Tasks</B></font>"
   ]
  },
  {
   "cell_type": "markdown",
   "metadata": {},
   "source": [
    "### Rainbow colors\n",
    "ask for input of a favorite rainbow color first letter: ROYGBIV  \n",
    "\n",
    "Using `if`, `elif`, and `else`:  \n",
    "- print the color matching the letter  \n",
    "    - R = Red  \n",
    "    - O = Orange  \n",
    "    - Y = Yellow  \n",
    "    - G = Green\n",
    "    - B = Blue\n",
    "    - I = Indigo\n",
    "    - V = Violet\n",
    "    - else print \"no match\"\n"
   ]
  },
  {
   "cell_type": "code",
   "execution_count": null,
   "metadata": {},
   "outputs": [],
   "source": [
    "# [ ] complete rainbow colors\n",
    "\n",
    "R = Red\n",
    "O = Orange\n",
    "Y = Yellow\n",
    "G = Green\n",
    "B = Blue\n",
    "I = Indigo\n",
    "V = Violet\n"
   ]
  },
  {
   "cell_type": "code",
   "execution_count": 6,
   "metadata": {},
   "outputs": [
    {
     "name": "stdout",
     "output_type": "stream",
     "text": [
      "What is a color in the rainbow?: Blue\n",
      "Nicely done!!!\n"
     ]
    }
   ],
   "source": [
    "# [ ] make the code above into a function rainbow_color() that has a string parameter, \n",
    "# get input and call the function and return the matching color as a string or \"no match\" message.\n",
    "# Call the function and print the return string.\n",
    "\n",
    "colors = \"red, orange, yellow, green, blue, indigo, violet\"\n",
    "\n",
    "def rainbow_color(color):\n",
    "    guess = input(\"What is a color in the rainbow?: \").lower()\n",
    "    if guess in colors:\n",
    "        print(\"Nicely done!!!\")\n",
    "    else:\n",
    "        print(\"no match. try again\")\n",
    "        return guess\n",
    "rainbow_color(\"blue\")\n",
    "\n",
    "\n",
    "\n"
   ]
  },
  {
   "cell_type": "markdown",
   "metadata": {},
   "source": [
    "# &nbsp;  \n",
    "**Create function age_20() that adds or subtracts 20 from your age for a return value based on current age** (use `if`) \n",
    "- call the funtion with user input and then use the return value in a sentence  \n",
    "example `age_20(25)` returns **5**: \n",
    "> \"5 years old, 20 years difference from now\""
   ]
  },
  {
   "cell_type": "code",
   "execution_count": 17,
   "metadata": {},
   "outputs": [
    {
     "name": "stdout",
     "output_type": "stream",
     "text": [
      "how old are you?:54\n",
      "you were 34 years old 20 years ago!\n"
     ]
    },
    {
     "data": {
      "text/plain": [
       "54"
      ]
     },
     "execution_count": 17,
     "metadata": {},
     "output_type": "execute_result"
    }
   ],
   "source": [
    "# [ ] complete age_20()\n",
    "\n",
    "\n",
    "def age_20():\n",
    "    age = int(input(\"how old are you?:\"))\n",
    "    if age > 21:\n",
    "        print(\"you were\", int(age) - 20, \"years old 20 years ago!\")\n",
    "        return age\n",
    "age_20()\n",
    "\n",
    "\n",
    "\n",
    "\n"
   ]
  },
  {
   "cell_type": "markdown",
   "metadata": {},
   "source": [
    "**create a function rainbow_or_age that takes a string argument**\n",
    "- if argument is a digit return the value of calling age_20() with the str value cast as **`int`** \n",
    "- if argument is an alphabetical character return the value of calling rainbow_color() with the str\n",
    "- if neither return FALSE"
   ]
  },
  {
   "cell_type": "code",
   "execution_count": 21,
   "metadata": {},
   "outputs": [
    {
     "name": "stdout",
     "output_type": "stream",
     "text": [
      "Enter a number or a letterd\n",
      "Why did you put in a letter?:\n"
     ]
    },
    {
     "data": {
      "text/plain": [
       "'d'"
      ]
     },
     "execution_count": 21,
     "metadata": {},
     "output_type": "execute_result"
    }
   ],
   "source": [
    "# [ ]  create rainbow_or_\n",
    "\n",
    "\n",
    "def rainbow_or_age():\n",
    "    argument = input(\"Enter a number or a letter\")\n",
    "    x = argument.isdigit()\n",
    "    if x == True:\n",
    "        print(\"you were\", int(argument) - 20, \"years old 20 years ago!\")\n",
    "    elif x == False:\n",
    "        print(\"Why did you put in a letter?:\")\n",
    "        return argument\n",
    "rainbow_or_age()\n",
    "        \n",
    "    \n",
    "\n"
   ]
  },
  {
   "cell_type": "code",
   "execution_count": 23,
   "metadata": {},
   "outputs": [
    {
     "name": "stdout",
     "output_type": "stream",
     "text": [
      "number?: 5\n",
      "number?: 5\n",
      "10\n"
     ]
    }
   ],
   "source": [
    "# [ ]  add 2 numbers from input using a cast to integer and display the answer \n",
    "\n",
    "num1 = int(input(\"number?: \"))\n",
    "num2 = int(input(\"number?: \"))\n",
    "\n",
    "x = num1 + num2\n",
    "\n",
    "print(x)"
   ]
  },
  {
   "cell_type": "code",
   "execution_count": 25,
   "metadata": {},
   "outputs": [
    {
     "name": "stdout",
     "output_type": "stream",
     "text": [
      "number?: 444\n",
      "number?: 4\n",
      "the answer is 1776\n"
     ]
    }
   ],
   "source": [
    "# [ ] Multiply 2 numbers from input using cast and save the answer as part of a string \"the answer is...\"\n",
    "# display the string using print\n",
    "\n",
    "num1 = int(input(\"number?: \"))\n",
    "num2 = int(input(\"number?: \"))\n",
    "\n",
    "x = num1 * num2\n",
    "\n",
    "print(\"the answer is\", x)"
   ]
  },
  {
   "cell_type": "code",
   "execution_count": 27,
   "metadata": {},
   "outputs": [
    {
     "name": "stdout",
     "output_type": "stream",
     "text": [
      "number?: 56\n",
      "number?: 5\n",
      "30.5\n"
     ]
    }
   ],
   "source": [
    "# [ ] get input of 2 numbers and display the average: (num1 + num2) divided by 2\n",
    "\n",
    "num1 = int(input(\"number?: \"))\n",
    "num2 = int(input(\"number?: \"))\n",
    "\n",
    "x = (num1 + num2) / 2\n",
    "\n",
    "print(x)"
   ]
  },
  {
   "cell_type": "code",
   "execution_count": 30,
   "metadata": {},
   "outputs": [
    {
     "name": "stdout",
     "output_type": "stream",
     "text": [
      "number?: 3\n",
      "number?: 6\n",
      "3\n"
     ]
    }
   ],
   "source": [
    "# [ ] get input of 2 numbers and subtract the largest from the smallest (use an if statement to see which is larger)\n",
    "# show the answer\n",
    "num1 = int(input(\"number?: \"))\n",
    "num2 = int(input(\"number?: \"))\n",
    "\n",
    "if num1 > num2:\n",
    "    print(num1 - num2)\n",
    "elif num2 > num1:\n",
    "    print(num2 - num1)\n"
   ]
  },
  {
   "cell_type": "code",
   "execution_count": 45,
   "metadata": {},
   "outputs": [
    {
     "name": "stdout",
     "output_type": "stream",
     "text": [
      "number?: 5\n",
      "number?: 0\n",
      "divide by zero error\n"
     ]
    }
   ],
   "source": [
    "# [ ] Divide a larger number by a smaller number and print the integer part of the result\n",
    "# don't divide by zero! if a zero is input make the result zero\n",
    "# [ ] cast the answer to an integer to cut off the decimals and print the result\n",
    "\n",
    "f = 0\n",
    "\n",
    "num1 = int(input(\"number?: \"))\n",
    "num2 = int(input(\"number?: \"))\n",
    "c = num1 == f\n",
    "d = num2 == f\n",
    "if c == True:\n",
    "    print(\"divide by zero error\")\n",
    "\n",
    "elif d == True:\n",
    "    print(\"divide by zero error\")\n",
    "elif num1 > num2:\n",
    "    print(num1 / num2)\n",
    "elif num2 > num1:\n",
    "    print(num2 / num1)\n",
    "\n",
    "\n",
    "\n",
    "\n",
    "\n"
   ]
  },
  {
   "cell_type": "markdown",
   "metadata": {},
   "source": [
    "[Terms of use](http://go.microsoft.com/fwlink/?LinkID=206977) &nbsp; [Privacy & cookies](https://go.microsoft.com/fwlink/?LinkId=521839) &nbsp; © 2017 Microsoft"
   ]
  }
 ],
 "metadata": {
  "anaconda-cloud": {},
  "kernelspec": {
   "display_name": "Python 3",
   "language": "python",
   "name": "python3"
  },
  "language_info": {
   "codemirror_mode": {
    "name": "ipython",
    "version": 3
   },
   "file_extension": ".py",
   "mimetype": "text/x-python",
   "name": "python",
   "nbconvert_exporter": "python",
   "pygments_lexer": "ipython3",
   "version": "3.8.8"
  }
 },
 "nbformat": 4,
 "nbformat_minor": 1
}
