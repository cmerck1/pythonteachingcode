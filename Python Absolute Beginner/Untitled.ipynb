{
 "cells": [
  {
   "cell_type": "code",
   "execution_count": 4,
   "id": "554f3e5e",
   "metadata": {},
   "outputs": [],
   "source": [
    "def adding_report(report = \"T\"):\n",
    "    total = 0\n",
    "    items = \"Items\\n\"\n",
    "    while True:\n",
    "        user_input = input(\"Enter an integer or 'Q': \")\n",
    "        if user_input.isdigit():\n",
    "            total += int(user_input)\n",
    "            if report == 'A':\n",
    "                items = items + user_input + \"\\n\"\n",
    "        elif user_input.upper() == 'Q':\n",
    "            if report == 'A':\n",
    "                print(\"\\n\" + items + \"\\n\" + \"Total\\n\" + str(total))\n",
    "            else:\n",
    "                print(\"\\nTotal\\n\" + str(total))\n",
    "            break\n",
    "        else:\n",
    "            print(\"Input is invalid\")"
   ]
  },
  {
   "cell_type": "code",
   "execution_count": null,
   "id": "cf923982",
   "metadata": {},
   "outputs": [],
   "source": []
  },
  {
   "cell_type": "code",
   "execution_count": null,
   "id": "24807c76",
   "metadata": {},
   "outputs": [
    {
     "name": "stdout",
     "output_type": "stream",
     "text": [
      "\n",
      "Items\n",
      "\n",
      "Total\n",
      "0\n"
     ]
    }
   ],
   "source": [
    "def adding_report(report = \"T\"):\n",
    "    total1 = 0\n",
    "    items = \"\"\n",
    "    if report == \"A\":\n",
    "        print(\"\\nItems\")\n",
    "        print(items)\n",
    "        print(\"Total\")\n",
    "        print(total1)\n",
    "    elif report == \"T\":\n",
    "        print(\"\\nTotal\")\n",
    "        print(total1)\n",
    "        \n",
    "        \n",
    "    while True:\n",
    "        if report == \"A\":\n",
    "            item = input(\"Enter a number or 'Q' to quite:\").lower()\n",
    "            if item.isdigit():\n",
    "                items = items + item + \"\\n\"\n",
    "                total1 = total1 + int(item)\n",
    "            elif report ==\"T\":\n",
    "                items = items + item + \"\\n\"\n",
    "                total1 = total1 + int(item)\n",
    "            elif item.startswith(\"q\"):\n",
    "                if report == \"A\":\n",
    "                    x = adding_report(\"A\")\n",
    "                    print(x)\n",
    "                    print(total1)\n",
    "                elif report == \"T\":\n",
    "                    c = adding_report(\"T\")\n",
    "                    print(c)\n",
    "                    break\n",
    "            else:\n",
    "                print(\"Not a valid input! \")\n",
    "        \n",
    "        \n",
    "        \n",
    "adding_report(\"A\") "
   ]
  },
  {
   "cell_type": "code",
   "execution_count": null,
   "id": "e1778a14",
   "metadata": {},
   "outputs": [],
   "source": []
  }
 ],
 "metadata": {
  "kernelspec": {
   "display_name": "Python 3",
   "language": "python",
   "name": "python3"
  },
  "language_info": {
   "codemirror_mode": {
    "name": "ipython",
    "version": 3
   },
   "file_extension": ".py",
   "mimetype": "text/x-python",
   "name": "python",
   "nbconvert_exporter": "python",
   "pygments_lexer": "ipython3",
   "version": "3.8.8"
  }
 },
 "nbformat": 4,
 "nbformat_minor": 5
}
