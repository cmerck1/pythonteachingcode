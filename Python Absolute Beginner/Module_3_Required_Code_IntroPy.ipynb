{
 "cells": [
  {
   "cell_type": "markdown",
   "metadata": {
    "collapsed": true
   },
   "source": [
    "#  Module 3 Required Coding Activity  \n",
    "Introduction to Python Unit 1 \n",
    "\n",
    "This is an activity based on code similar to the Jupyter Notebook **`Practice_MOD03_1-4_IntroPy.ipynb`** and **`Practice_MOD03_1-5_IntroPy.ipynb`** which you may have completed as practice.\n",
    "\n",
    "> **NOTE:** This program requires the use of **`if, elif, else`**, and casting between strings and numbers. The program should use the various code syntax covered in module 3.  \n",
    ">  \n",
    ">The program must result in print output using numeric input similar to that shown in the sample below.\n",
    "\n",
    "## Program: Cheese Order    \n",
    "\n",
    "- set values for maximum and minimum order variables  \n",
    "- set value for price variable\n",
    "- get order_amount input and cast to a number  \n",
    "- check order_amount and give message checking against  \n",
    "  - over maximum\n",
    "  - under minimum\n",
    "- else within maximum and minimum give message with calculated price \n",
    "\n",
    "\n",
    "Sample input and output:\n",
    "```\n",
    "Enter cheese order weight (numeric value): 113\n",
    "113.0 is more than currently available stock\n",
    "```\n",
    "\n",
    "```\n",
    "Enter cheese order weight (numeric value): .15\n",
    "0.15 is below minimum order amount\n",
    "```  \n",
    "\n",
    "```\n",
    "Enter cheese order weight (numeric value): 2\n",
    "2.0 costs $15.98\n",
    "```  "
   ]
  },
  {
   "cell_type": "code",
   "execution_count": 8,
   "metadata": {},
   "outputs": [
    {
     "name": "stdout",
     "output_type": "stream",
     "text": [
      "how many units of cheese would you like?: 45\n",
      "Your order will cost $ 90\n"
     ]
    },
    {
     "data": {
      "text/plain": [
       "45"
      ]
     },
     "execution_count": 8,
     "metadata": {},
     "output_type": "execute_result"
    }
   ],
   "source": [
    "# [ ] create, call and test \n",
    "\n",
    "maximum_order = 50\n",
    "minimum_order = 3\n",
    "unit_price = 2\n",
    "\n",
    "def cheese():\n",
    "    order_amount = int(input(\"how many units of cheese would you like?: \"))\n",
    "    if order_amount > maximum_order:\n",
    "        print(\"We dont have that much\")\n",
    "    elif order_amount < minimum_order:\n",
    "        print(\"Thats lower than our minimum quantity\")\n",
    "    else:\n",
    "        print(\"Your order will cost $\", unit_price * order_amount)\n",
    "        return order_amount\n",
    "    \n",
    "cheese()\n",
    "\n",
    "\n",
    "\n",
    "\n",
    "\n",
    "\n",
    "\n",
    "\n",
    "\n",
    "\n"
   ]
  },
  {
   "cell_type": "markdown",
   "metadata": {},
   "source": [
    "Submit this by creating a python file (.py) and submitting it in D2L. Be sure to test that it works."
   ]
  }
 ],
 "metadata": {
  "kernelspec": {
   "display_name": "Python 3",
   "language": "python",
   "name": "python3"
  },
  "language_info": {
   "codemirror_mode": {
    "name": "ipython",
    "version": 3
   },
   "file_extension": ".py",
   "mimetype": "text/x-python",
   "name": "python",
   "nbconvert_exporter": "python",
   "pygments_lexer": "ipython3",
   "version": "3.8.8"
  }
 },
 "nbformat": 4,
 "nbformat_minor": 1
}
