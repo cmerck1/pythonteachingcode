{
 "cells": [
  {
   "cell_type": "markdown",
   "metadata": {},
   "source": [
    "# 1-3 Intro Python Practice\n",
    "## Functions Arguments & Parameters\n",
    "<font size=\"5\" color=\"#00A0B2\"  face=\"verdana\"> <B>Student will be able to</B></font>  \n",
    "- **create functions with a parameter**  \n",
    "- **create functions with a `return` value** \n",
    "- **create functions with multiple parameters**\n",
    "- **use knowledge of sequence in coding tasks**  \n",
    "- **use coding best practices** "
   ]
  },
  {
   "cell_type": "markdown",
   "metadata": {},
   "source": [
    "## &nbsp;\n",
    "<font size=\"6\" color=\"#B24C00\"  face=\"verdana\"> <B>Tasks</B></font>"
   ]
  },
  {
   "cell_type": "code",
   "execution_count": 3,
   "metadata": {},
   "outputs": [
    {
     "name": "stdout",
     "output_type": "stream",
     "text": [
      "('I am not funny', \"because I'm a bunny\")\n"
     ]
    }
   ],
   "source": [
    "# [ ] define and call a function short_rhyme() that prints a 2 line rhyme\n",
    "def short_rhyme(line1, line2):\n",
    "    rhyme = (line1, line2)\n",
    "    return rhyme\n",
    "little_rhyme = short_rhyme(\"I am not funny\", \"because I'm a bunny\")\n",
    "print(little_rhyme)\n",
    "    \n",
    "    \n"
   ]
  },
  {
   "cell_type": "code",
   "execution_count": 39,
   "metadata": {},
   "outputs": [
    {
     "name": "stdout",
     "output_type": "stream",
     "text": [
      "Cameron And The Evil Python\n"
     ]
    }
   ],
   "source": [
    "# [ ] define (def) a simple function: title_it() and call the function\n",
    "def title_it(msg):\n",
    "    new_t = (msg)\n",
    "    print(msg.title())\n",
    "title_it(\"Cameron and the evil python\")\n",
    "    \n",
    "\n",
    "\n",
    "    \n",
    "# - has a string parameter: msg\n",
    "# - prints msg in Title Case\n",
    "\n"
   ]
  },
  {
   "cell_type": "code",
   "execution_count": 41,
   "metadata": {},
   "outputs": [
    {
     "name": "stdout",
     "output_type": "stream",
     "text": [
      "What is the title?:hello\n",
      "Hello\n",
      "None\n"
     ]
    }
   ],
   "source": [
    "# [ ] get user input with prompt \"what is the title?\" \n",
    "new_t = input(\"What is the title?:\")\n",
    "# [ ] call title_it() using input for the string argument\n",
    "print(title_it(new_t))"
   ]
  },
  {
   "cell_type": "code",
   "execution_count": 43,
   "metadata": {},
   "outputs": [
    {
     "name": "stdout",
     "output_type": "stream",
     "text": [
      "Volume 2\n"
     ]
    }
   ],
   "source": [
    "# [ ] define title_it_rtn() which returns a titled string instead of printing\n",
    "def title_it_rtn(msg1):\n",
    "    return msg1.title()\n",
    "\n",
    "# [ ] call title_it_rtn() using input for the string argumetnt and print the result\n",
    "\n",
    "print(title_it_rtn(\"Volume 2\"))"
   ]
  },
  {
   "cell_type": "markdown",
   "metadata": {},
   "source": [
    "## Program: bookstore()\n",
    "create and test bookstore()\n",
    "- **bookstore() takes 2 string arguments: book & price**\n",
    "- **bookstore returns a string in sentence form** \n",
    "- **bookstore() should call title_it_rtn()** with book parameter  \n",
    "- **gather input for book_entry and price_entry to use in calling bookstore()**\n",
    "- **print the return value of bookstore()**\n",
    ">example of output: **`Title: The Adventures Of Sherlock Holmes, costs $12.99`**"
   ]
  },
  {
   "cell_type": "code",
   "execution_count": 73,
   "metadata": {},
   "outputs": [
    {
     "name": "stdout",
     "output_type": "stream",
     "text": [
      "What is the title?:Cameron\n",
      "What is the price?:10\n"
     ]
    },
    {
     "data": {
      "text/plain": [
       "'Title: Cameron costs 10'"
      ]
     },
     "execution_count": 73,
     "metadata": {},
     "output_type": "execute_result"
    }
   ],
   "source": [
    "# [ ] create, call and test bookstore() function\n",
    "def bookstore(book, price):\n",
    "    book_info = (\"Title: \" + book + \" costs \" + price)\n",
    "    return (book_info)\n",
    "bookstore(input(\"What is the title?:\"), input(\"What is the price?:\"))\n",
    "\n",
    "\n",
    "\n",
    "    \n"
   ]
  },
  {
   "cell_type": "markdown",
   "metadata": {},
   "source": [
    "### Fix the error"
   ]
  },
  {
   "cell_type": "code",
   "execution_count": 74,
   "metadata": {},
   "outputs": [
    {
     "name": "stdout",
     "output_type": "stream",
     "text": [
      "Who?: cameron\n",
      "greeting?: hi\n"
     ]
    },
    {
     "data": {
      "text/plain": [
       "'hi cameron!'"
      ]
     },
     "execution_count": 74,
     "metadata": {},
     "output_type": "execute_result"
    }
   ],
   "source": [
    "def make_greeting(name, greeting = \"Hello\"):\n",
    "    fire = (greeting + \" \" + name + \"!\")\n",
    "    return fire\n",
    "\n",
    "make_greeting(input(\"Who?: \"), input(\"greeting?: \"))\n",
    "# get name and greeting, send to make_greeting \n",
    "\n",
    "\n",
    "\n",
    "\n"
   ]
  },
  {
   "cell_type": "markdown",
   "metadata": {},
   "source": [
    "\n",
    "[Terms of use](http://go.microsoft.com/fwlink/?LinkID=206977) &nbsp; [Privacy & cookies](https://go.microsoft.com/fwlink/?LinkId=521839) &nbsp; © 2017 Microsoft"
   ]
  }
 ],
 "metadata": {
  "anaconda-cloud": {},
  "kernelspec": {
   "display_name": "Python 3",
   "language": "python",
   "name": "python3"
  },
  "language_info": {
   "codemirror_mode": {
    "name": "ipython",
    "version": 3
   },
   "file_extension": ".py",
   "mimetype": "text/x-python",
   "name": "python",
   "nbconvert_exporter": "python",
   "pygments_lexer": "ipython3",
   "version": "3.8.8"
  }
 },
 "nbformat": 4,
 "nbformat_minor": 1
}
